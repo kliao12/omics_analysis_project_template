{
 "cells": [
  {
   "cell_type": "markdown",
   "id": "5e8b211f-ba68-4f95-a201-0427560306fc",
   "metadata": {},
   "source": [
    "# R analysis notebook template\n",
    "\n",
    "Created by: `<First and last name>` (`<email address>`)"
   ]
  },
  {
   "cell_type": "markdown",
   "id": "9f8f45a9-4d7a-4c25-a2b1-5607a01040e8",
   "metadata": {},
   "source": [
    "# Overview\n",
    "\n",
    "Provide a general description here of the purpose of the notebook. If this notebook includes one iteration of several for a given analysis type, provide details here regarding how this iteration differs from others (e.g., data source, data transformations, model fitting method, etc.).\n",
    "\n",
    "**Note on notebook naming:** Prepend all notebook filenames with the date stamp `yyyymmdd_`. The notebook title should include the numeric ID for analysis type and iteration. For example, a specific iteration `0021` of a differential gene expression analysis `0005` may have a notebook file `20230131_dge_analysis.ipynb` with the title _DGE analysis `0005` iteration `0021`_. If planning to create several notebooks within the same subdirectory for sequential processing/analysis, append a numeric ordering prefix. For example, `20230131_dge_analysis.ipynb` would become `1_20230131_dge_analysis.ipynb` if it were the first notebook of several within the same subdirectory. \n",
    "\n",
    "**Note on code styling:** Follow the [tidyverse style guide](https://style.tidyverse.org/) for code styling.\n",
    "\n",
    "**Note on results file naming:** For any tables, plots, or serialized objects output from this notebook, use a date stamp suffix on filenames of the format `_yyyymmdd.<file extension>`."
   ]
  },
  {
   "cell_type": "markdown",
   "id": "a02d5198-7227-4a93-b686-0438dbbe35e1",
   "metadata": {},
   "source": [
    "----\n",
    "\n",
    "# Environment setup\n",
    "\n",
    "Docker image: `<image name and tag>` built from `src/docker/<image name>/Dockerfile`."
   ]
  },
  {
   "cell_type": "code",
   "execution_count": null,
   "id": "5f18cd90-f995-4e26-922d-ea5b49166d84",
   "metadata": {},
   "outputs": [],
   "source": [
    "initial_wd <- getwd()\n",
    "initial_wd"
   ]
  },
  {
   "cell_type": "code",
   "execution_count": null,
   "id": "c5ddb307-8329-4ae2-b68a-001276cc6220",
   "metadata": {},
   "outputs": [],
   "source": [
    "setwd(\"../../../../..\") #set working dir to the repo top level\n",
    "getwd()"
   ]
  },
  {
   "cell_type": "code",
   "execution_count": null,
   "id": "4fcc4fe3-8a31-4182-a6e7-535af0aba07d",
   "metadata": {
    "scrolled": true
   },
   "outputs": [],
   "source": [
    "# Include here all the packages that are needed for the analysis\n",
    "library_list <- c(\n",
    "  \"\"\n",
    ")\n",
    "for (package in library_list) {\n",
    "  library(package, character.only = T, quietly = T)\n",
    "}"
   ]
  },
  {
   "cell_type": "code",
   "execution_count": null,
   "id": "3aea54ec-f9a5-4b30-98cd-0c58e88f35c6",
   "metadata": {},
   "outputs": [],
   "source": [
    "options(stringsAsFactors = F)\n",
    "options(repr.plot.res = 0.25) #plot resolution can have a big impact on notebook size"
   ]
  },
  {
   "cell_type": "code",
   "execution_count": null,
   "id": "8cf2101a-aa22-415f-a6e4-75a794f2692d",
   "metadata": {},
   "outputs": [],
   "source": [
    "# Set dir paths for results from this analysis. Makes it easier to specify output paths\n",
    "# throughout the notebook\n",
    "results_dir <- \"\"\n",
    "figure_dir <- file.path(results_dir, \"figures\")\n",
    "print(figure_dir)\n",
    "table_dir <- file.path(results_dir, \"tables\")\n",
    "print(table_dir)\n",
    "serialized_dir <- file.path(results_dir, \"serialized\")\n",
    "print(serialized_dir)"
   ]
  },
  {
   "cell_type": "code",
   "execution_count": null,
   "id": "3e5245e0-2a0f-4f5a-9cd9-240f8a4c8469",
   "metadata": {},
   "outputs": [],
   "source": [
    "# Include here any reusable functions that may not (yet) warrant being included as a generalized\n",
    "# function in src/r/. Follow roxygen2 syntax for code documentation for functions:\n",
    "# https://roxygen2.r-lib.org/articles/rd.html\n",
    "# A template function is included here for your convenience.\n",
    "\n",
    "#' @title\n",
    "#' Function title\n",
    "#'\n",
    "#' @description\n",
    "#' Brief function description.\n",
    "#'\n",
    "#' @details\n",
    "#' Function details.\n",
    "#'\n",
    "#' @param bar A <variable type>. Description of the function argument.\n",
    "#'\n",
    "#' @returns Description of what the function returns.\n",
    "#'\n",
    "#' @examples\n",
    "#' Put executable R code here that demonstrates how the function works.\n",
    "#' Code must run without error.\n",
    "foo <- function(bar) {\n",
    "  return NULL\n",
    "}"
   ]
  },
  {
   "cell_type": "code",
   "execution_count": null,
   "id": "6d292b6d-d354-4647-a352-3cef3c76f389",
   "metadata": {},
   "outputs": [],
   "source": [
    "# Include here any global variables for easy reference throughout the notebook. Examples include\n",
    "# color palettes, plot specifications, variable thresholds/cutoffs, etc."
   ]
  },
  {
   "cell_type": "markdown",
   "id": "f11fcff2-f0c4-45e9-ae8a-65cf87e67eb8",
   "metadata": {},
   "source": [
    "----\n",
    "\n",
    "# Data loading"
   ]
  },
  {
   "cell_type": "code",
   "execution_count": null,
   "id": "5fe1fc9a-a16d-4e39-8c5f-b60d5d02566c",
   "metadata": {},
   "outputs": [],
   "source": [
    "# code block"
   ]
  },
  {
   "cell_type": "markdown",
   "id": "ae06ad4b-ebde-4949-bdc3-d71372810528",
   "metadata": {
    "tags": []
   },
   "source": [
    "---\n",
    "\n",
    "# Title for analysis section 1"
   ]
  },
  {
   "cell_type": "markdown",
   "id": "feda0ea4-07df-4eb4-9a35-799e9c1dabca",
   "metadata": {
    "tags": []
   },
   "source": [
    "## Title for analysis section 1 subsection 1"
   ]
  },
  {
   "cell_type": "code",
   "execution_count": null,
   "id": "38f27a1e-64c7-4d5d-ac1c-fd94e1bdde17",
   "metadata": {},
   "outputs": [],
   "source": [
    "# code block"
   ]
  },
  {
   "cell_type": "code",
   "execution_count": null,
   "id": "6235f735-5964-452a-b92c-618217d67bc2",
   "metadata": {},
   "outputs": [],
   "source": [
    "# Template for outputting results\n",
    "outfile <- file.path(results_dir, \"filename_yyyymmdd.extension\")\n",
    "print(outfile)\n",
    "\n",
    "write.table(file = outfile, ...) #for plain text tables\n",
    "\n",
    "saveRDS(file = outfile, ...) #for serialized objects\n",
    "\n",
    "# For support vector graphic as PDF\n",
    "pdf(file = outfile, width = 5, height = 5)\n",
    "# plot calling function here\n",
    "dev.off()\n",
    "IRdisplay::display_pdf(file = outfile, width = 500) # view graphic as cell output\n",
    "\n",
    "# For graphic as PNG\n",
    "png(filename = outfile, width = 5, height = 5, units = \"in\", res = 150)\n",
    "# plot calling function here\n",
    "dev.off()\n",
    "IRdisplay::display_png(file = outfile, width = 500) # view graphic as cell output"
   ]
  },
  {
   "cell_type": "markdown",
   "id": "bc97388c-a23b-468a-a9e5-518b6ab67726",
   "metadata": {
    "tags": []
   },
   "source": [
    "---\n",
    "\n",
    "# Title for analysis section 2"
   ]
  },
  {
   "cell_type": "markdown",
   "id": "70a07a9a-75fa-4651-a13e-53844b0944ab",
   "metadata": {
    "tags": []
   },
   "source": [
    "## Title for analysis section 2 subsection 1"
   ]
  },
  {
   "cell_type": "code",
   "execution_count": null,
   "id": "f4ac20b9-651b-49b9-b2f3-11d73277a60f",
   "metadata": {},
   "outputs": [],
   "source": [
    "# code block"
   ]
  },
  {
   "cell_type": "markdown",
   "id": "2f45b3fc-7465-4943-a252-39ba0aa831bc",
   "metadata": {},
   "source": [
    "---\n",
    "\n",
    "# Session info"
   ]
  },
  {
   "cell_type": "code",
   "execution_count": 2,
   "id": "abde34af-71b9-4c7a-bea2-dc0c8f3a9a16",
   "metadata": {},
   "outputs": [
    {
     "data": {
      "text/plain": [
       "R version 4.1.1 (2021-08-10)\n",
       "Platform: x86_64-conda-linux-gnu (64-bit)\n",
       "Running under: Ubuntu 20.04 LTS\n",
       "\n",
       "Matrix products: default\n",
       "BLAS/LAPACK: /home/bquach/anaconda3/envs/bfx_hub/lib/libopenblasp-r0.3.18.so\n",
       "\n",
       "locale:\n",
       " [1] LC_CTYPE=C.UTF-8       LC_NUMERIC=C           LC_TIME=C.UTF-8       \n",
       " [4] LC_COLLATE=C.UTF-8     LC_MONETARY=C.UTF-8    LC_MESSAGES=C.UTF-8   \n",
       " [7] LC_PAPER=C.UTF-8       LC_NAME=C              LC_ADDRESS=C          \n",
       "[10] LC_TELEPHONE=C         LC_MEASUREMENT=C.UTF-8 LC_IDENTIFICATION=C   \n",
       "\n",
       "attached base packages:\n",
       "[1] stats     graphics  grDevices utils     datasets  methods   base     \n",
       "\n",
       "loaded via a namespace (and not attached):\n",
       " [1] fansi_1.0.3         crayon_1.5.2        digest_0.6.29      \n",
       " [4] utf8_1.2.2          IRdisplay_1.0       repr_1.1.3.9000    \n",
       " [7] lifecycle_1.0.2     jsonlite_1.8.2      evaluate_0.16      \n",
       "[10] pillar_1.8.1        rlang_1.0.6         cli_3.4.1          \n",
       "[13] uuid_1.0-3          vctrs_0.4.2         IRkernel_1.2.0.9000\n",
       "[16] tools_4.1.1         glue_1.6.2          fastmap_1.1.0      \n",
       "[19] compiler_4.1.1      base64enc_0.1-3     pbdZMQ_0.3-6       \n",
       "[22] htmltools_0.5.3    "
      ]
     },
     "metadata": {},
     "output_type": "display_data"
    }
   ],
   "source": [
    "sessionInfo()"
   ]
  }
 ],
 "metadata": {
  "kernelspec": {
   "display_name": "R",
   "language": "R",
   "name": "ir"
  },
  "language_info": {
   "codemirror_mode": "r",
   "file_extension": ".r",
   "mimetype": "text/x-r-source",
   "name": "R",
   "pygments_lexer": "r",
   "version": "4.2.2"
  }
 },
 "nbformat": 4,
 "nbformat_minor": 5
}
